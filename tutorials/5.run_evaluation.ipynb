{
 "cells": [
  {
   "cell_type": "markdown",
   "metadata": {},
   "source": [
    "## Run evaluation on different action policies, e.g. VLA"
   ]
  },
  {
   "cell_type": "code",
   "execution_count": null,
   "metadata": {},
   "outputs": [
    {
     "name": "stderr",
     "output_type": "stream",
     "text": [
      "/home/adelli/miniconda3/envs/vlabench/lib/python3.10/site-packages/dash/_jupyter.py:30: DeprecationWarning: The `ipykernel.comm.Comm` class has been deprecated. Please use the `comm` module instead.For creating comms, use the function `from comm import create_comm`.\n",
      "  _dash_comm = Comm(target_name=\"dash\")\n"
     ]
    },
    {
     "name": "stdout",
     "output_type": "stream",
     "text": [
      "Jupyter environment detected. Enabling Open3D WebVisualizer.\n",
      "[Open3D INFO] WebRTC GUI backend enabled.\n",
      "[Open3D INFO] WebRTCWindowSystem: HTTP handshake server disabled.\n"
     ]
    }
   ],
   "source": [
    "from VLABench.evaluation.evaluator import Evaluator\n",
    "from VLABench.evaluation.model.policy.openvla import OpenVLA\n",
    "from VLABench.evaluation.model.policy.base import RandomPolicy\n",
    "from VLABench.tasks import *\n",
    "from VLABench.robots import *\n",
    "\n",
    "demo_tasks = [\"select_fruit\"]\n",
    "unseen = True\n",
    "save_dir = \"~/VLABench/logs\"\n",
    "\n",
    "model_ckpt = \"~/VLABench/checkpoints/openvla-7b\"\n",
    "# lora_ckpt = \"~/VLABench/checkpoints/openvla-7b\""
   ]
  },
  {
   "cell_type": "code",
   "execution_count": 2,
   "metadata": {},
   "outputs": [],
   "source": [
    "import os\n",
    "os.environ[\"MUJOCO_GL\"] = \"egl\""
   ]
  },
  {
   "cell_type": "code",
   "execution_count": 1,
   "metadata": {},
   "outputs": [
    {
     "name": "stderr",
     "output_type": "stream",
     "text": [
      "/home/adelli/miniconda3/envs/vlabench/lib/python3.10/site-packages/dash/_jupyter.py:30: DeprecationWarning: The `ipykernel.comm.Comm` class has been deprecated. Please use the `comm` module instead.For creating comms, use the function `from comm import create_comm`.\n",
      "  _dash_comm = Comm(target_name=\"dash\")\n"
     ]
    },
    {
     "name": "stdout",
     "output_type": "stream",
     "text": [
      "Jupyter environment detected. Enabling Open3D WebVisualizer.\n",
      "[Open3D INFO] WebRTC GUI backend enabled.\n",
      "[Open3D INFO] WebRTCWindowSystem: HTTP handshake server disabled.\n",
      "odict_keys(['add_condiment', 'add_condiment_spatial', 'add_condiment_common_sense', 'add_condiment_semantic', 'insert_flower', 'insert_flower_common_sense', 'insert_flower_semantic', 'insert_flower_spatial', 'insert_bloom_flower', 'replace_wilted_flower', 'density_qa', 'friction_qa', 'magnetism_qa', 'reflection_qa', 'simple_cuestick_use', 'simple_seesaw_use', 'speed_of_sound_qa', 'thermal_expansion_qa', 'weight_qa', 'select_billiards', 'select_billiards_spatial', 'select_billiards_common_sense', 'select_billiards_semantic', 'select_book', 'select_specific_type_book', 'select_book_spatial', 'select_book_semantic', 'select_chemistry_tube', 'select_chemistry_tube_common_sense', 'select_chemistry_tube_spatial', 'select_chemistry_tube_semantic', 'select_drink', 'select_drink_common_sense', 'select_drink_spatial', 'select_drink_semantic', 'select_fruit', 'select_fruit_common_sense', 'select_fruit_spatial', 'select_fruit_semantic', 'select_ingredient', 'select_ingredient_spatial', 'select_ingredient_common_sense', 'select_ingredient_semantic', 'select_mahjong', 'select_mahjong_spatial', 'select_mahjong_semantic', 'select_unique_type_mahjong', 'select_painting', 'put_box_on_painting', 'select_painting_by_style', 'put_box_on_painting_semantic', 'hang_picture_on_specific_nail', 'select_poker', 'select_nth_largest_poker', 'select_poker_spatial', 'select_poker_semantic', 'select_toy', 'select_toy_spatial', 'select_toy_common_sense', 'select_toy_semantic', 'cluster_book', 'cluster_billiards', 'cluster_toy', 'cluster_dessert', 'cluster_drink', 'cluster_ingredients', 'cook_dishes', 'cool_drink', 'take_out_cool_drink', 'find_unseen_object', 'get_coffee', 'get_coffee_with_sugar', 'get_coffee_with_milk', 'hammer_loose_nail', 'assemble_hammer', 'hammer_nail_and_hang_picture', 'heat_food', 'plug_cord_and_heat_food', 'make_juice', 'find_fruit_to_make_juice', 'insert_power_cord_to_make_juice', 'play_mahjong', 'play_math_game', 'play_snooker', 'texas_holdem', 'texas_holdem_explore', 'book_rearrange', 'rearrange_tube', 'set_dining_table', 'set_dining_left_hand', 'set_dining_chopstick', 'set_dining_chopstick_left_hand', 'set_study_table', 'store_food', 'complex_seesaw_use', 'take_chemistry_experiment'])\n"
     ]
    }
   ],
   "source": [
    "from VLABench.tasks import *\n",
    "from VLABench.utils.register import register\n",
    "\n",
    "print(register._tasks.keys())"
   ]
  },
  {
   "cell_type": "markdown",
   "metadata": {},
   "source": [
    "### Init evaluator"
   ]
  },
  {
   "cell_type": "code",
   "execution_count": 3,
   "metadata": {},
   "outputs": [
    {
     "name": "stdout",
     "output_type": "stream",
     "text": [
      "Load the task episodes by seeds, instead of episodes\n"
     ]
    }
   ],
   "source": [
    "evaluator = Evaluator(\n",
    "    tasks=demo_tasks,\n",
    "    n_episodes=2,\n",
    "    max_substeps=10,   \n",
    "    save_dir=save_dir,\n",
    "    visualization=False\n",
    ")"
   ]
  },
  {
   "cell_type": "markdown",
   "metadata": {},
   "source": [
    "### Load basic random policy"
   ]
  },
  {
   "cell_type": "code",
   "execution_count": 4,
   "metadata": {},
   "outputs": [],
   "source": [
    "import os\n",
    "os.environ[\"MUJOCO_GL\"] = \"osmesa\"\n",
    "os.environ[\"PYOPENGL_PLATFORM\"] = \"osmesa\""
   ]
  },
  {
   "cell_type": "code",
   "execution_count": null,
   "metadata": {},
   "outputs": [],
   "source": [
    "random_policy = RandomPolicy(model=None)\n",
    "result = evaluator.evaluate(random_policy)"
   ]
  },
  {
   "cell_type": "markdown",
   "metadata": {},
   "source": [
    "### Load policies and run evaluation"
   ]
  },
  {
   "cell_type": "code",
   "execution_count": null,
   "metadata": {},
   "outputs": [],
   "source": [
    "# OpenVLA\n",
    "\n",
    "policy = OpenVLA(\n",
    "    model_ckpt=model_ckpt,\n",
    "    # lora_ckpt=lora_ckpt,\n",
    "    norm_config_file=os.path.join(os.getenv(\"VLABENCH_ROOT\"), \"configs/model/openvla_config.json\"),\n",
    "    device=\"cuda:1\",\n",
    ")\n",
    "result = evaluator.evaluate(policy)"
   ]
  },
  {
   "cell_type": "code",
   "execution_count": null,
   "metadata": {},
   "outputs": [],
   "source": [
    "# Pi0 (OpenPi)\n",
    "\n",
    "from VLABench.evaluation.model.policy.openpi import OpenPiPolicy\n",
    "policy = OpenPiPolicy()\n",
    "result = evaluator.evaluate(policy)"
   ]
  },
  {
   "cell_type": "code",
   "execution_count": null,
   "metadata": {},
   "outputs": [
    {
     "name": "stdout",
     "output_type": "stream",
     "text": [
      "Warning: Missing charsets in String to FontSet conversion\n"
     ]
    }
   ],
   "source": []
  },
  {
   "cell_type": "markdown",
   "metadata": {},
   "source": [
    "## Run evaluation on different VLMs"
   ]
  },
  {
   "cell_type": "code",
   "execution_count": null,
   "metadata": {},
   "outputs": [],
   "source": [
    "from VLABench.evaluation.model.vlm import *\n",
    "from VLABench.evaluation.evaluator import VLMEvaluator\n",
    "\n",
    "vlm_name = \"GPT_4v\" # valid names: [\"GPT_4v\", \"Qwen2_VL\", \"InternVL2\", \"MiniCPM_V2_6\", \"GLM4v\", \"Llava_NeXT\"]\n",
    "fewshot_num = 0\n",
    "task_list = [\"mesh_and_texture/select_fruit\"]\n",
    "\n",
    "def initialize_model(model_name, *args, **kwargs):\n",
    "    cls = globals().get(model_name)\n",
    "    if cls is None:\n",
    "        raise ValueError(f\"Model '{model_name}' not found in the current namespace.\")\n",
    "    \n",
    "    return cls(*args, **kwargs)"
   ]
  },
  {
   "cell_type": "code",
   "execution_count": null,
   "metadata": {},
   "outputs": [],
   "source": [
    "vlm = initialize_model(vlm_name)\n",
    "evaluator = VLMEvaluator(\n",
    "    tasks=task_list,\n",
    "    n_episodes=2,\n",
    "    data_path=os.path.join(os.getenv(\"VLABENCH_ROOT\"), \"../dataset\", \"vlm\"),\n",
    "    save_path=os.path.join(os.getenv(\"VLABENCH_ROOT\"), \"../logs/vlm\"),\n",
    ")\n",
    "\n",
    "evaluator.evaluate(vlm, few_shot_num=fewshot_num)\n",
    "result=evaluator.get_final_score_dict(vlm_name)\n"
   ]
  }
 ],
 "metadata": {
  "kernelspec": {
   "display_name": "vlabench",
   "language": "python",
   "name": "python3"
  },
  "language_info": {
   "codemirror_mode": {
    "name": "ipython",
    "version": 3
   },
   "file_extension": ".py",
   "mimetype": "text/x-python",
   "name": "python",
   "nbconvert_exporter": "python",
   "pygments_lexer": "ipython3",
   "version": "3.10.16"
  }
 },
 "nbformat": 4,
 "nbformat_minor": 2
}
